{
 "cells": [
  {
   "cell_type": "code",
   "execution_count": 1,
   "id": "9c274d47-068e-4cd3-9d77-688d7786a3db",
   "metadata": {},
   "outputs": [],
   "source": [
    "import pandas as pd "
   ]
  },
  {
   "cell_type": "code",
   "execution_count": 2,
   "id": "a9074f8c-0a56-43e2-8fab-707c33f4adfa",
   "metadata": {},
   "outputs": [],
   "source": [
    "df=pd.read_csv(\"hashtags.csv\")"
   ]
  },
  {
   "cell_type": "code",
   "execution_count": 3,
   "id": "a7cd26a1-70e7-4ee1-9573-ca3f9b48619e",
   "metadata": {},
   "outputs": [
    {
     "data": {
      "text/html": [
       "<div>\n",
       "<style scoped>\n",
       "    .dataframe tbody tr th:only-of-type {\n",
       "        vertical-align: middle;\n",
       "    }\n",
       "\n",
       "    .dataframe tbody tr th {\n",
       "        vertical-align: top;\n",
       "    }\n",
       "\n",
       "    .dataframe thead th {\n",
       "        text-align: right;\n",
       "    }\n",
       "</style>\n",
       "<table border=\"1\" class=\"dataframe\">\n",
       "  <thead>\n",
       "    <tr style=\"text-align: right;\">\n",
       "      <th></th>\n",
       "      <th>author</th>\n",
       "      <th>content</th>\n",
       "      <th>country</th>\n",
       "      <th>date_time</th>\n",
       "      <th>id</th>\n",
       "      <th>language</th>\n",
       "      <th>latitude</th>\n",
       "      <th>longitude</th>\n",
       "      <th>number_of_likes</th>\n",
       "      <th>number_of_shares</th>\n",
       "    </tr>\n",
       "  </thead>\n",
       "  <tbody>\n",
       "    <tr>\n",
       "      <th>0</th>\n",
       "      <td>katyperry</td>\n",
       "      <td>Is history repeating itself...?#DONTNORMALIZEH...</td>\n",
       "      <td>NaN</td>\n",
       "      <td>12/01/2017 19:52</td>\n",
       "      <td>8.196330e+17</td>\n",
       "      <td>en</td>\n",
       "      <td>NaN</td>\n",
       "      <td>NaN</td>\n",
       "      <td>7900</td>\n",
       "      <td>3472</td>\n",
       "    </tr>\n",
       "    <tr>\n",
       "      <th>1</th>\n",
       "      <td>katyperry</td>\n",
       "      <td>@barackobama Thank you for your incredible gra...</td>\n",
       "      <td>NaN</td>\n",
       "      <td>11/01/2017 08:38</td>\n",
       "      <td>8.191010e+17</td>\n",
       "      <td>en</td>\n",
       "      <td>NaN</td>\n",
       "      <td>NaN</td>\n",
       "      <td>3689</td>\n",
       "      <td>1380</td>\n",
       "    </tr>\n",
       "    <tr>\n",
       "      <th>2</th>\n",
       "      <td>katyperry</td>\n",
       "      <td>Life goals. https://t.co/XIn1qKMKQl</td>\n",
       "      <td>NaN</td>\n",
       "      <td>11/01/2017 02:52</td>\n",
       "      <td>8.190140e+17</td>\n",
       "      <td>en</td>\n",
       "      <td>NaN</td>\n",
       "      <td>NaN</td>\n",
       "      <td>10341</td>\n",
       "      <td>2387</td>\n",
       "    </tr>\n",
       "    <tr>\n",
       "      <th>3</th>\n",
       "      <td>katyperry</td>\n",
       "      <td>Me right now 🙏🏻 https://t.co/gW55C1wrwd</td>\n",
       "      <td>NaN</td>\n",
       "      <td>11/01/2017 02:44</td>\n",
       "      <td>8.190120e+17</td>\n",
       "      <td>en</td>\n",
       "      <td>NaN</td>\n",
       "      <td>NaN</td>\n",
       "      <td>10774</td>\n",
       "      <td>2458</td>\n",
       "    </tr>\n",
       "    <tr>\n",
       "      <th>4</th>\n",
       "      <td>katyperry</td>\n",
       "      <td>SISTERS ARE DOIN' IT FOR THEMSELVES! 🙌🏻💪🏻❤️ ht...</td>\n",
       "      <td>NaN</td>\n",
       "      <td>10/01/2017 05:22</td>\n",
       "      <td>8.186890e+17</td>\n",
       "      <td>en</td>\n",
       "      <td>NaN</td>\n",
       "      <td>NaN</td>\n",
       "      <td>17620</td>\n",
       "      <td>4655</td>\n",
       "    </tr>\n",
       "  </tbody>\n",
       "</table>\n",
       "</div>"
      ],
      "text/plain": [
       "      author                                            content country  \\\n",
       "0  katyperry  Is history repeating itself...?#DONTNORMALIZEH...     NaN   \n",
       "1  katyperry  @barackobama Thank you for your incredible gra...     NaN   \n",
       "2  katyperry                Life goals. https://t.co/XIn1qKMKQl     NaN   \n",
       "3  katyperry            Me right now 🙏🏻 https://t.co/gW55C1wrwd     NaN   \n",
       "4  katyperry  SISTERS ARE DOIN' IT FOR THEMSELVES! 🙌🏻💪🏻❤️ ht...     NaN   \n",
       "\n",
       "          date_time            id language  latitude  longitude  \\\n",
       "0  12/01/2017 19:52  8.196330e+17       en       NaN        NaN   \n",
       "1  11/01/2017 08:38  8.191010e+17       en       NaN        NaN   \n",
       "2  11/01/2017 02:52  8.190140e+17       en       NaN        NaN   \n",
       "3  11/01/2017 02:44  8.190120e+17       en       NaN        NaN   \n",
       "4  10/01/2017 05:22  8.186890e+17       en       NaN        NaN   \n",
       "\n",
       "   number_of_likes  number_of_shares  \n",
       "0             7900              3472  \n",
       "1             3689              1380  \n",
       "2            10341              2387  \n",
       "3            10774              2458  \n",
       "4            17620              4655  "
      ]
     },
     "execution_count": 3,
     "metadata": {},
     "output_type": "execute_result"
    }
   ],
   "source": [
    "df.head()"
   ]
  },
  {
   "cell_type": "code",
   "execution_count": 4,
   "id": "1fbb92cc-d569-452e-8ca8-d64df781a1bc",
   "metadata": {},
   "outputs": [
    {
     "data": {
      "text/plain": [
       "Index(['author', 'content', 'country', 'date_time', 'id', 'language',\n",
       "       'latitude', 'longitude', 'number_of_likes', 'number_of_shares'],\n",
       "      dtype='object')"
      ]
     },
     "execution_count": 4,
     "metadata": {},
     "output_type": "execute_result"
    }
   ],
   "source": [
    "df.columns"
   ]
  },
  {
   "cell_type": "code",
   "execution_count": 7,
   "id": "6a2c9d7e-3b2d-4701-a143-c59a0d605af2",
   "metadata": {},
   "outputs": [],
   "source": [
    "import regex as re\n",
    "def get_hashtag(text):\n",
    "    tag=re.findall(r'#\\w+', text.lower())\n",
    "    return tag\n",
    "\n",
    "df['cleaned_hashtag']=df['content'].apply(get_hashtag)"
   ]
  },
  {
   "cell_type": "code",
   "execution_count": 10,
   "id": "1ad8de98-58a4-422d-8eb3-f2210014db80",
   "metadata": {},
   "outputs": [],
   "source": [
    "df_exploded = df.explode('cleaned_hashtag')"
   ]
  },
  {
   "cell_type": "code",
   "execution_count": 14,
   "id": "3f5093ed-095b-4e7c-83c4-72a9ffa39c88",
   "metadata": {},
   "outputs": [],
   "source": [
    "df_exploded=df_exploded.dropna(subset='cleaned_hashtag')"
   ]
  },
  {
   "cell_type": "code",
   "execution_count": 18,
   "id": "2051b026-ed9b-45c1-ad2b-81d4492f6fd4",
   "metadata": {},
   "outputs": [],
   "source": [
    "new_df=df_exploded.groupby('cleaned_hashtag').size().reset_index(name=\"hashtag_counts\")"
   ]
  },
  {
   "cell_type": "code",
   "execution_count": 26,
   "id": "cf217a90-f07a-4cc0-a54c-e5b2f0a479af",
   "metadata": {},
   "outputs": [
    {
     "data": {
      "image/png": "[encoded data removed]",
      "text/plain": [
       "<Figure size 640x480 with 1 Axes>"
      ]
     },
     "metadata": {},
     "output_type": "display_data"
    }
   ],
   "source": [
    "import matplotlib.pyplot as plt\n",
    "plt.barh(new_df.sort_values(by=\"hashtag_counts\",ascending=False).head(10)['cleaned_hashtag'],new_df.sort_values(by=\"hashtag_counts\",ascending=False).head(10)['hashtag_counts'])\n",
    "plt.show()\n",
    "#new_df.sort_values(by=\"hashtag_counts\",ascending=False).head(10)['cleaned_hashtag']"
   ]
  },
  {
   "cell_type": "code",
   "execution_count": 31,
   "id": "ebbd76df-06fd-453e-9992-0586d08e9698",
   "metadata": {},
   "outputs": [],
   "source": [
    "new_df1=df_exploded.groupby('cleaned_hashtag')['number_of_shares'].count().reset_index(name='shares')"
   ]
  },
  {
   "cell_type": "code",
   "execution_count": 32,
   "id": "4ae8da40-1a1d-4c01-8ef0-6de703778614",
   "metadata": {},
   "outputs": [
    {
     "data": {
      "text/html": [
       "<div>\n",
       "<style scoped>\n",
       "    .dataframe tbody tr th:only-of-type {\n",
       "        vertical-align: middle;\n",
       "    }\n",
       "\n",
       "    .dataframe tbody tr th {\n",
       "        vertical-align: top;\n",
       "    }\n",
       "\n",
       "    .dataframe thead th {\n",
       "        text-align: right;\n",
       "    }\n",
       "</style>\n",
       "<table border=\"1\" class=\"dataframe\">\n",
       "  <thead>\n",
       "    <tr style=\"text-align: right;\">\n",
       "      <th></th>\n",
       "      <th>cleaned_hashtag</th>\n",
       "      <th>shares</th>\n",
       "    </tr>\n",
       "  </thead>\n",
       "  <tbody>\n",
       "    <tr>\n",
       "      <th>0</th>\n",
       "      <td>#1</td>\n",
       "      <td>162</td>\n",
       "    </tr>\n",
       "    <tr>\n",
       "      <th>1</th>\n",
       "      <td>#100bestcos</td>\n",
       "      <td>1</td>\n",
       "    </tr>\n",
       "    <tr>\n",
       "      <th>2</th>\n",
       "      <td>#100thchattyshow</td>\n",
       "      <td>1</td>\n",
       "    </tr>\n",
       "    <tr>\n",
       "      <th>3</th>\n",
       "      <td>#10days</td>\n",
       "      <td>4</td>\n",
       "    </tr>\n",
       "    <tr>\n",
       "      <th>4</th>\n",
       "      <td>#10daystildangerouswoman</td>\n",
       "      <td>1</td>\n",
       "    </tr>\n",
       "    <tr>\n",
       "      <th>...</th>\n",
       "      <td>...</td>\n",
       "      <td>...</td>\n",
       "    </tr>\n",
       "    <tr>\n",
       "      <th>7518</th>\n",
       "      <td>#zulu</td>\n",
       "      <td>1</td>\n",
       "    </tr>\n",
       "    <tr>\n",
       "      <th>7519</th>\n",
       "      <td>#⃣️</td>\n",
       "      <td>1</td>\n",
       "    </tr>\n",
       "    <tr>\n",
       "      <th>7520</th>\n",
       "      <td>#さようなら</td>\n",
       "      <td>1</td>\n",
       "    </tr>\n",
       "    <tr>\n",
       "      <th>7521</th>\n",
       "      <td>#日食</td>\n",
       "      <td>1</td>\n",
       "    </tr>\n",
       "    <tr>\n",
       "      <th>7522</th>\n",
       "      <td>#안녕하세요</td>\n",
       "      <td>1</td>\n",
       "    </tr>\n",
       "  </tbody>\n",
       "</table>\n",
       "<p>7523 rows × 2 columns</p>\n",
       "</div>"
      ],
      "text/plain": [
       "               cleaned_hashtag  shares\n",
       "0                           #1     162\n",
       "1                  #100bestcos       1\n",
       "2             #100thchattyshow       1\n",
       "3                      #10days       4\n",
       "4     #10daystildangerouswoman       1\n",
       "...                        ...     ...\n",
       "7518                     #zulu       1\n",
       "7519                       #⃣️       1\n",
       "7520                    #さようなら       1\n",
       "7521                       #日食       1\n",
       "7522                    #안녕하세요       1\n",
       "\n",
       "[7523 rows x 2 columns]"
      ]
     },
     "execution_count": 32,
     "metadata": {},
     "output_type": "execute_result"
    }
   ],
   "source": [
    "new_df1"
   ]
  },
  {
   "cell_type": "code",
   "execution_count": null,
   "id": "70cc940e-3a8a-4cbc-8d84-daa423ab1065",
   "metadata": {},
   "outputs": [],
   "source": []
  }
 ],
 "metadata": {
  "kernelspec": {
   "display_name": "Python 3 (ipykernel)",
   "language": "python",
   "name": "python3"
  },
  "language_info": {
   "codemirror_mode": {
    "name": "ipython",
    "version": 3
   },
   "file_extension": ".py",
   "mimetype": "text/x-python",
   "name": "python",
   "nbconvert_exporter": "python",
   "pygments_lexer": "ipython3",
   "version": "3.10.11"
  }
 },
 "nbformat": 4,
 "nbformat_minor": 5
}
