{
 "cells": [
  {
   "cell_type": "code",
   "execution_count": 35,
   "id": "afd1eaf7-ff8f-458c-9561-af9df7551ebf",
   "metadata": {},
   "outputs": [],
   "source": [
    "import pandas as pd"
   ]
  },
  {
   "cell_type": "code",
   "execution_count": 36,
   "id": "ee243bda-ad9a-4cd9-9049-ff21644793c4",
   "metadata": {},
   "outputs": [
    {
     "name": "stdout",
     "output_type": "stream",
     "text": [
      "         user_name         user_location  \\\n",
      "0           ᏉᎥ☻լꂅϮ            astroworld   \n",
      "1    Tom Basile 🇺🇸          New York, NY   \n",
      "2  Time4fisticuffs      Pewee Valley, KY   \n",
      "3      ethel mertz  Stuck in the Middle    \n",
      "4         DIPR-J&K     Jammu and Kashmir   \n",
      "\n",
      "                                    user_description         user_created  \\\n",
      "0  wednesday addams as a disney princess keepin i...  2017-05-26 05:46:42   \n",
      "1  Husband, Father, Columnist & Commentator. Auth...  2009-04-16 20:06:23   \n",
      "2  #Christian #Catholic #Conservative #Reagan #Re...  2009-02-28 18:57:41   \n",
      "3  #Browns #Indians #ClevelandProud #[]_[] #Cavs ...  2019-03-07 01:45:06   \n",
      "4  🖊️Official Twitter handle of Department of Inf...  2017-02-12 06:45:15   \n",
      "\n",
      "   user_followers  user_friends  user_favourites  user_verified  \\\n",
      "0             624           950            18775          False   \n",
      "1            2253          1677               24           True   \n",
      "2            9275          9525             7254          False   \n",
      "3             197           987             1488          False   \n",
      "4          101009           168              101          False   \n",
      "\n",
      "                  date                                               text  \\\n",
      "0  2020-07-25 12:27:21  If I smelled the scent of hand sanitizers toda...   \n",
      "1  2020-07-25 12:27:17  Hey @Yankees @YankeesPR and @MLB - wouldn't it...   \n",
      "2  2020-07-25 12:27:14  @diane3443 @wdunlap @realDonaldTrump Trump nev...   \n",
      "3  2020-07-25 12:27:10  @brookbanktv The one gift #COVID19 has give me...   \n",
      "4  2020-07-25 12:27:08  25 July : Media Bulletin on Novel #CoronaVirus...   \n",
      "\n",
      "                            hashtags               source  is_retweet  \n",
      "0                                NaN   Twitter for iPhone       False  \n",
      "1                                NaN  Twitter for Android       False  \n",
      "2                        ['COVID19']  Twitter for Android       False  \n",
      "3                        ['COVID19']   Twitter for iPhone       False  \n",
      "4  ['CoronaVirusUpdates', 'COVID19']  Twitter for Android       False  \n"
     ]
    }
   ],
   "source": [
    "df = pd.read_csv('trends.csv')\n",
    "print(df.head())\n"
   ]
  },
  {
   "cell_type": "code",
   "execution_count": 37,
   "id": "5352232d-8196-41e3-acc3-d28bf18dfb4a",
   "metadata": {},
   "outputs": [
    {
     "name": "stdout",
     "output_type": "stream",
     "text": [
      "<class 'pandas.core.frame.DataFrame'>\n",
      "RangeIndex: 179108 entries, 0 to 179107\n",
      "Data columns (total 13 columns):\n",
      " #   Column            Non-Null Count   Dtype \n",
      "---  ------            --------------   ----- \n",
      " 0   user_name         179108 non-null  object\n",
      " 1   user_location     142337 non-null  object\n",
      " 2   user_description  168822 non-null  object\n",
      " 3   user_created      179108 non-null  object\n",
      " 4   user_followers    179108 non-null  int64 \n",
      " 5   user_friends      179108 non-null  int64 \n",
      " 6   user_favourites   179108 non-null  int64 \n",
      " 7   user_verified     179108 non-null  bool  \n",
      " 8   date              179108 non-null  object\n",
      " 9   text              179108 non-null  object\n",
      " 10  hashtags          127774 non-null  object\n",
      " 11  source            179031 non-null  object\n",
      " 12  is_retweet        179108 non-null  bool  \n",
      "dtypes: bool(2), int64(3), object(8)\n",
      "memory usage: 15.4+ MB\n"
     ]
    }
   ],
   "source": [
    "df.info()"
   ]
  },
  {
   "cell_type": "code",
   "execution_count": 38,
   "id": "b97aa874-a47b-4100-9dfd-c0b443f21718",
   "metadata": {},
   "outputs": [],
   "source": [
    "df['date']=pd.to_datetime(df['date'])"
   ]
  },
  {
   "cell_type": "code",
   "execution_count": 39,
   "id": "5ae86080-e8d0-4d49-87dc-d9d372aaaf9c",
   "metadata": {},
   "outputs": [
    {
     "ename": "SyntaxError",
     "evalue": "invalid syntax (3962026392.py, line 1)",
     "output_type": "error",
     "traceback": [
      "\u001b[1;36m  Cell \u001b[1;32mIn[39], line 1\u001b[1;36m\u001b[0m\n\u001b[1;33m    df['cleaned_date']df['cleaned_date']=df['date'].dt.date\u001b[0m\n\u001b[1;37m                      ^\u001b[0m\n\u001b[1;31mSyntaxError\u001b[0m\u001b[1;31m:\u001b[0m invalid syntax\n"
     ]
    }
   ],
   "source": [
    "df['cleaned_date']df['cleaned_date']=df['date'].dt.date"
   ]
  },
  {
   "cell_type": "code",
   "execution_count": null,
   "id": "f1f00d2f-acb0-457f-89ee-95ad0389ba19",
   "metadata": {},
   "outputs": [],
   "source": [
    "df=df.dropna(subset=['hashtags'])"
   ]
  },
  {
   "cell_type": "code",
   "execution_count": null,
   "id": "afae1cc6-ed66-41d2-88c2-58e154350884",
   "metadata": {},
   "outputs": [],
   "source": [
    "df"
   ]
  },
  {
   "cell_type": "code",
   "execution_count": null,
   "id": "aba1391a-e200-45cb-99f9-d7d8a8405df7",
   "metadata": {},
   "outputs": [],
   "source": [
    "trend=df.groupby('cleaned_date').size().reset_index(name=\"tweet_counts\")"
   ]
  },
  {
   "cell_type": "code",
   "execution_count": null,
   "id": "6bd79c26-1b33-4e01-a517-1a093cdacc6d",
   "metadata": {},
   "outputs": [],
   "source": [
    "trend"
   ]
  },
  {
   "cell_type": "code",
   "execution_count": null,
   "id": "93f7122c-137b-4a02-b36b-abe984303ff8",
   "metadata": {},
   "outputs": [],
   "source": [
    "plt.plot(trend['cleaned_date'], trend['tweet_counts'], data=\"trend\")\n",
    "plt.xticks(rotation=90)\n",
    "plt.show()"
   ]
  },
  {
   "cell_type": "code",
   "execution_count": null,
   "id": "b2e4c5c3-1b9a-42c4-94bc-6c69201311d7",
   "metadata": {},
   "outputs": [],
   "source": [
    "mean_trend=trend.groupby('cleaned_date')['tweet_counts'].mean().reset_index(name=\"mean_tweet\")"
   ]
  },
  {
   "cell_type": "code",
   "execution_count": null,
   "id": "1b0297df-d1be-4318-a95f-06ecbfd5cd22",
   "metadata": {},
   "outputs": [],
   "source": [
    "mean_trend"
   ]
  },
  {
   "cell_type": "code",
   "execution_count": null,
   "id": "59c7e6a7-c512-4ce2-a853-f28405152ec8",
   "metadata": {},
   "outputs": [],
   "source": [
    "plt.plot(mean_trend['cleaned_date'], mean_trend['mean_tweet'], data=\"mean_trend\")\n",
    "plt.xticks(rotation=90)\n",
    "plt.show()"
   ]
  },
  {
   "cell_type": "code",
   "execution_count": null,
   "id": "c9c5b0be-523d-4e5c-beea-1a1e9c3f63df",
   "metadata": {},
   "outputs": [],
   "source": []
  }
 ],
 "metadata": {
  "kernelspec": {
   "display_name": "Python 3 (ipykernel)",
   "language": "python",
   "name": "python3"
  },
  "language_info": {
   "codemirror_mode": {
    "name": "ipython",
    "version": 3
   },
   "file_extension": ".py",
   "mimetype": "text/x-python",
   "name": "python",
   "nbconvert_exporter": "python",
   "pygments_lexer": "ipython3",
   "version": "3.10.11"
  }
 },
 "nbformat": 4,
 "nbformat_minor": 5
}
